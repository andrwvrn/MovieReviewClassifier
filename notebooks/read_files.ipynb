{
 "cells": [
  {
   "cell_type": "code",
   "execution_count": 15,
   "metadata": {},
   "outputs": [],
   "source": [
    "import os\n",
    "\n",
    "import pandas as pd\n",
    "import numpy as np\n",
    "from tqdm import tqdm\n",
    "\n",
    "import warnings\n",
    "warnings.filterwarnings('ignore')"
   ]
  },
  {
   "cell_type": "code",
   "execution_count": 16,
   "metadata": {},
   "outputs": [],
   "source": [
    "TRAIN_POS_PATH = '../aclImdb/train/pos/'\n",
    "TRAIN_NEG_PATH = '../aclImdb/train/neg/'\n",
    "\n",
    "TEST_POS_PATH = '../aclImdb/test/pos/'\n",
    "TEST_NEG_PATH = '../aclImdb/test/neg/'"
   ]
  },
  {
   "cell_type": "code",
   "execution_count": 17,
   "metadata": {},
   "outputs": [
    {
     "name": "stderr",
     "output_type": "stream",
     "text": [
      "100%|██████████| 12500/12500 [00:02<00:00, 4525.44it/s]\n",
      "100%|██████████| 12500/12500 [00:02<00:00, 4946.94it/s]\n"
     ]
    }
   ],
   "source": [
    "# read train files to dataframe\n",
    "\n",
    "train = []\n",
    "\n",
    "for file in tqdm(os.listdir(TRAIN_POS_PATH)):\n",
    "    with open(TRAIN_POS_PATH + file, 'r') as f:\n",
    "        train.append([f.read(), file[:-4].split('_')[1]])\n",
    "        \n",
    "for file in tqdm(os.listdir(TRAIN_NEG_PATH)):\n",
    "    with open(TRAIN_NEG_PATH + file, 'r') as f:\n",
    "        train.append([f.read(), file[:-4].split('_')[1]])\n",
    "        \n",
    "train_df = pd.DataFrame(train, columns=['Review', 'Rating'])"
   ]
  },
  {
   "cell_type": "code",
   "execution_count": 18,
   "metadata": {},
   "outputs": [
    {
     "data": {
      "text/html": [
       "<div>\n",
       "<style scoped>\n",
       "    .dataframe tbody tr th:only-of-type {\n",
       "        vertical-align: middle;\n",
       "    }\n",
       "\n",
       "    .dataframe tbody tr th {\n",
       "        vertical-align: top;\n",
       "    }\n",
       "\n",
       "    .dataframe thead th {\n",
       "        text-align: right;\n",
       "    }\n",
       "</style>\n",
       "<table border=\"1\" class=\"dataframe\">\n",
       "  <thead>\n",
       "    <tr style=\"text-align: right;\">\n",
       "      <th></th>\n",
       "      <th>Review</th>\n",
       "      <th>Rating</th>\n",
       "    </tr>\n",
       "  </thead>\n",
       "  <tbody>\n",
       "    <tr>\n",
       "      <th>0</th>\n",
       "      <td>Dog days is one of most accurate films i've ev...</td>\n",
       "      <td>10</td>\n",
       "    </tr>\n",
       "    <tr>\n",
       "      <th>1</th>\n",
       "      <td>In the Hollywood west those trail hands were a...</td>\n",
       "      <td>8</td>\n",
       "    </tr>\n",
       "    <tr>\n",
       "      <th>2</th>\n",
       "      <td>After watching the Next Action Star reality TV...</td>\n",
       "      <td>7</td>\n",
       "    </tr>\n",
       "    <tr>\n",
       "      <th>3</th>\n",
       "      <td>Considering the lack of art with in African ci...</td>\n",
       "      <td>10</td>\n",
       "    </tr>\n",
       "    <tr>\n",
       "      <th>4</th>\n",
       "      <td>mature intelligent and highly charged melodram...</td>\n",
       "      <td>10</td>\n",
       "    </tr>\n",
       "  </tbody>\n",
       "</table>\n",
       "</div>"
      ],
      "text/plain": [
       "                                              Review Rating\n",
       "0  Dog days is one of most accurate films i've ev...     10\n",
       "1  In the Hollywood west those trail hands were a...      8\n",
       "2  After watching the Next Action Star reality TV...      7\n",
       "3  Considering the lack of art with in African ci...     10\n",
       "4  mature intelligent and highly charged melodram...     10"
      ]
     },
     "execution_count": 18,
     "metadata": {},
     "output_type": "execute_result"
    }
   ],
   "source": [
    "train_df.head()"
   ]
  },
  {
   "cell_type": "code",
   "execution_count": 19,
   "metadata": {},
   "outputs": [
    {
     "name": "stderr",
     "output_type": "stream",
     "text": [
      "100%|██████████| 12500/12500 [00:00<00:00, 33892.01it/s]\n",
      "100%|██████████| 12500/12500 [00:02<00:00, 4603.63it/s]\n"
     ]
    }
   ],
   "source": [
    "# read test files to dataframe\n",
    "\n",
    "test = []\n",
    "\n",
    "for file in tqdm(os.listdir(TEST_POS_PATH)):\n",
    "    with open(TEST_POS_PATH + file, 'r') as f:\n",
    "        test.append([f.read(), file[:-4].split('_')[1]])\n",
    "        \n",
    "for file in tqdm(os.listdir(TEST_NEG_PATH)):\n",
    "    with open(TEST_NEG_PATH + file, 'r') as f:\n",
    "        test.append([f.read(), file[:-4].split('_')[1]])\n",
    "        \n",
    "test_df = pd.DataFrame(test, columns=['Review', 'Rating'])"
   ]
  },
  {
   "cell_type": "code",
   "execution_count": 20,
   "metadata": {},
   "outputs": [
    {
     "data": {
      "text/html": [
       "<div>\n",
       "<style scoped>\n",
       "    .dataframe tbody tr th:only-of-type {\n",
       "        vertical-align: middle;\n",
       "    }\n",
       "\n",
       "    .dataframe tbody tr th {\n",
       "        vertical-align: top;\n",
       "    }\n",
       "\n",
       "    .dataframe thead th {\n",
       "        text-align: right;\n",
       "    }\n",
       "</style>\n",
       "<table border=\"1\" class=\"dataframe\">\n",
       "  <thead>\n",
       "    <tr style=\"text-align: right;\">\n",
       "      <th></th>\n",
       "      <th>Review</th>\n",
       "      <th>Rating</th>\n",
       "    </tr>\n",
       "  </thead>\n",
       "  <tbody>\n",
       "    <tr>\n",
       "      <th>0</th>\n",
       "      <td>This is fantastic! Everything from the Score -...</td>\n",
       "      <td>10</td>\n",
       "    </tr>\n",
       "    <tr>\n",
       "      <th>1</th>\n",
       "      <td>This movie was amazing!!!! From beginning to e...</td>\n",
       "      <td>10</td>\n",
       "    </tr>\n",
       "    <tr>\n",
       "      <th>2</th>\n",
       "      <td>The first time I've seen this DVD, I was not o...</td>\n",
       "      <td>10</td>\n",
       "    </tr>\n",
       "    <tr>\n",
       "      <th>3</th>\n",
       "      <td>One of the flat-out drollest movies of all-tim...</td>\n",
       "      <td>10</td>\n",
       "    </tr>\n",
       "    <tr>\n",
       "      <th>4</th>\n",
       "      <td>When I first got wind of this picture, it was ...</td>\n",
       "      <td>9</td>\n",
       "    </tr>\n",
       "  </tbody>\n",
       "</table>\n",
       "</div>"
      ],
      "text/plain": [
       "                                              Review Rating\n",
       "0  This is fantastic! Everything from the Score -...     10\n",
       "1  This movie was amazing!!!! From beginning to e...     10\n",
       "2  The first time I've seen this DVD, I was not o...     10\n",
       "3  One of the flat-out drollest movies of all-tim...     10\n",
       "4  When I first got wind of this picture, it was ...      9"
      ]
     },
     "execution_count": 20,
     "metadata": {},
     "output_type": "execute_result"
    }
   ],
   "source": [
    "test_df.head()"
   ]
  },
  {
   "cell_type": "code",
   "execution_count": 21,
   "metadata": {},
   "outputs": [
    {
     "data": {
      "text/plain": [
       "96"
      ]
     },
     "execution_count": 21,
     "metadata": {},
     "output_type": "execute_result"
    }
   ],
   "source": [
    "# check if there are duplicates in \"Review\" column of train_df\n",
    "train_df.shape[0] - train_df['Review'].nunique()"
   ]
  },
  {
   "cell_type": "code",
   "execution_count": 22,
   "metadata": {},
   "outputs": [
    {
     "data": {
      "text/plain": [
       "199"
      ]
     },
     "execution_count": 22,
     "metadata": {},
     "output_type": "execute_result"
    }
   ],
   "source": [
    "# check if there are duplicates in \"Review\" column of test_df\n",
    "test_df.shape[0] - test_df['Review'].nunique()"
   ]
  },
  {
   "cell_type": "code",
   "execution_count": 23,
   "metadata": {},
   "outputs": [
    {
     "data": {
      "text/plain": [
       "25000"
      ]
     },
     "execution_count": 23,
     "metadata": {},
     "output_type": "execute_result"
    }
   ],
   "source": [
    "train_df.shape[0]"
   ]
  },
  {
   "cell_type": "code",
   "execution_count": 24,
   "metadata": {},
   "outputs": [],
   "source": [
    "# let's get rid of duplicates\n",
    "train_df = train_df.drop_duplicates(subset=['Review'])\n",
    "test_df = test_df.drop_duplicates(subset=['Review'])"
   ]
  },
  {
   "cell_type": "code",
   "execution_count": 25,
   "metadata": {},
   "outputs": [
    {
     "data": {
      "text/plain": [
       "1     5068\n",
       "10    4718\n",
       "8     3006\n",
       "4     2679\n",
       "7     2493\n",
       "3     2413\n",
       "2     2272\n",
       "9     2255\n",
       "Name: Rating, dtype: int64"
      ]
     },
     "execution_count": 25,
     "metadata": {},
     "output_type": "execute_result"
    }
   ],
   "source": [
    "# check if ratings are in range from 1 to 10\n",
    "train_df['Rating'].value_counts()"
   ]
  },
  {
   "cell_type": "code",
   "execution_count": 26,
   "metadata": {},
   "outputs": [
    {
     "data": {
      "text/plain": [
       "10    4965\n",
       "1     4948\n",
       "8     2841\n",
       "4     2619\n",
       "3     2514\n",
       "9     2339\n",
       "7     2295\n",
       "2     2280\n",
       "Name: Rating, dtype: int64"
      ]
     },
     "execution_count": 26,
     "metadata": {},
     "output_type": "execute_result"
    }
   ],
   "source": [
    "test_df['Rating'].value_counts()"
   ]
  },
  {
   "cell_type": "code",
   "execution_count": 27,
   "metadata": {},
   "outputs": [],
   "source": [
    "# save train and test dataframes to .csv files\n",
    "train_df.to_csv('../csv/train.csv', index=False)\n",
    "test_df.to_csv('../csv/test.csv', index=False)"
   ]
  },
  {
   "cell_type": "code",
   "execution_count": null,
   "metadata": {},
   "outputs": [],
   "source": []
  }
 ],
 "metadata": {
  "kernelspec": {
   "display_name": "Python 3",
   "language": "python",
   "name": "python3"
  },
  "language_info": {
   "codemirror_mode": {
    "name": "ipython",
    "version": 3
   },
   "file_extension": ".py",
   "mimetype": "text/x-python",
   "name": "python",
   "nbconvert_exporter": "python",
   "pygments_lexer": "ipython3",
   "version": "3.7.5"
  }
 },
 "nbformat": 4,
 "nbformat_minor": 2
}
